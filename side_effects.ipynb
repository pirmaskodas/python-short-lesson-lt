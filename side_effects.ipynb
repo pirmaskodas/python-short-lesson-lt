{
 "cells": [
  {
   "cell_type": "markdown",
   "metadata": {
    "slideshow": {
     "slide_type": "slide"
    }
   },
   "source": [
    "# Side effects"
   ]
  },
  {
   "cell_type": "markdown",
   "metadata": {
    "slideshow": {
     "slide_type": "fragment"
    }
   },
   "source": [
    " > A side effect is when a function relies on, or modifies, something outside its parameters to do something.\n",
    " \n",
    " > For example, a function which reads or writes from a variable outside its own arguments, a database, a file, or the console can be described as having side effects"
   ]
  },
  {
   "cell_type": "code",
   "execution_count": 59,
   "metadata": {
    "slideshow": {
     "slide_type": "fragment"
    }
   },
   "outputs": [
    {
     "name": "stdout",
     "output_type": "stream",
     "text": [
      "Hi\n"
     ]
    }
   ],
   "source": [
    "print(\"Hi\")"
   ]
  },
  {
   "cell_type": "code",
   "execution_count": 60,
   "metadata": {
    "slideshow": {
     "slide_type": "fragment"
    }
   },
   "outputs": [
    {
     "data": {
      "text/plain": [
       "'1'"
      ]
     },
     "execution_count": 60,
     "metadata": {},
     "output_type": "execute_result"
    }
   ],
   "source": [
    "input(\"Enter number\")"
   ]
  },
  {
   "cell_type": "code",
   "execution_count": 61,
   "metadata": {
    "slideshow": {
     "slide_type": "slide"
    }
   },
   "outputs": [
    {
     "data": {
      "text/plain": [
       "[2]"
      ]
     },
     "execution_count": 61,
     "metadata": {},
     "output_type": "execute_result"
    }
   ],
   "source": [
    "numbers = []\n",
    "def append_2(numbers):\n",
    "    numbers.append(2)\n",
    "append_2(numbers)\n",
    "numbers"
   ]
  },
  {
   "cell_type": "code",
   "execution_count": 62,
   "metadata": {
    "slideshow": {
     "slide_type": "slide"
    }
   },
   "outputs": [
    {
     "data": {
      "text/plain": [
       "11"
      ]
     },
     "execution_count": 62,
     "metadata": {},
     "output_type": "execute_result"
    }
   ],
   "source": [
    "count = 10\n",
    "def increment_global_count():\n",
    "    global count\n",
    "    count += 1\n",
    "increment_global_count()\n",
    "count"
   ]
  },
  {
   "cell_type": "code",
   "execution_count": 63,
   "metadata": {
    "slideshow": {
     "slide_type": "slide"
    }
   },
   "outputs": [],
   "source": [
    "import os\n",
    "def write_to_file():\n",
    "    with open(\"file.txt\", \"w\") as f:\n",
    "        return f.write(\"Junk\")\n",
    "        \n",
    "def read_disk():\n",
    "    with open(\"file.txt\") as f:\n",
    "        return f.read()\n",
    "\n",
    "def delete_file():\n",
    "    os.remove(\"file.txt\")\n",
    "\n"
   ]
  },
  {
   "cell_type": "code",
   "execution_count": 64,
   "metadata": {
    "slideshow": {
     "slide_type": "slide"
    }
   },
   "outputs": [],
   "source": [
    "import requests\n",
    "\n",
    "def get_todo():\n",
    "    return requests.get(\"https://jsonplaceholder.typicode.com/todos\")\n",
    "    "
   ]
  },
  {
   "cell_type": "code",
   "execution_count": 65,
   "metadata": {
    "slideshow": {
     "slide_type": "slide"
    }
   },
   "outputs": [],
   "source": [
    "import sqlite3\n",
    "\n",
    "def create_db_table():\n",
    "    with sqlite3.connect('test.db') as conn:\n",
    "        conn.execute(\"CREATE TABLE IF NOT EXISTS company (NAME TEXT)\")\n",
    "\n",
    "def select_all_companies():\n",
    "    with sqlite3.connect('test.db') as conn:\n",
    "        conn.execute(\"SELECT * FROM company\")\n"
   ]
  },
  {
   "cell_type": "code",
   "execution_count": 66,
   "metadata": {
    "slideshow": {
     "slide_type": "slide"
    }
   },
   "outputs": [],
   "source": [
    "# Whats wrong this side effects?\n",
    "# You cant test them\n",
    "# What to do?\n",
    "# Isolate side effects"
   ]
  },
  {
   "cell_type": "code",
   "execution_count": 67,
   "metadata": {
    "slideshow": {
     "slide_type": "slide"
    }
   },
   "outputs": [],
   "source": [
    "# Example of set of functions that isolate side effects\n",
    "TODO_API = 'https://jsonplaceholder.typicode.com/todos/'\n",
    "\n",
    "def create_url(todo_id, todo_api=TODO_API):\n",
    "    return f\"{todo_api}{todo_id}\"\n",
    "\n",
    "def get_todo(url):\n",
    "    \"\"\"Side effect: Sends get request\"\"\"   \n",
    "    return requests.get(url)\n",
    "\n",
    "def parse_title(data):\n",
    "    return data['title']\n",
    "\n",
    "def generate_report(title):\n",
    "    return f\"The title is {title}\"\n",
    "\n",
    "def generate_file_path(todo_id):\n",
    "    return f\"{todo_id}.txt\"\n",
    "\n",
    "def write_to_file(report, path):\n",
    "    \"\"\"Side effect: writes to disk\"\"\"\n",
    "    with open(path, 'w') as f:\n",
    "        f.write(report)\n",
    "\n"
   ]
  },
  {
   "cell_type": "code",
   "execution_count": null,
   "metadata": {
    "slideshow": {
     "slide_type": "subslide"
    }
   },
   "outputs": [],
   "source": [
    "def generate_user_title_report_by_id(todo_id):\n",
    "    url = create_url(todo_id)\n",
    "    response = get_todo(url)\n",
    "    title = parse_title(response.json())\n",
    "    path = generate_file_path(todo_id)\n",
    "    report = generate_report(title)\n",
    "    write_to_file(report, path)\n",
    "    \n",
    "\n",
    "generate_user_title_report_by_id(55)"
   ]
  },
  {
   "cell_type": "code",
   "execution_count": 68,
   "metadata": {
    "slideshow": {
     "slide_type": "slide"
    }
   },
   "outputs": [],
   "source": [
    "def get_and_parse(todo_id):\n",
    "    url = f\"https://jsonplaceholder.typicode.com/todos/{todo_id}\"\n",
    "    data = requests.get(url).json()\n",
    "    return data['title']\n",
    "\n",
    "def write_report_to_file(todo_id, title):\n",
    "    with open(f\"{todo_id}.txt\", 'w') as f:\n",
    "        f.write(f\"The title is '{title}'\")\n",
    "\n",
    "def generate_user_title_report_by_id(todo_id):\n",
    "    title = get_and_parse(55)\n",
    "    write_report_to_file(todo_id, title)\n",
    "\n",
    "generate_user_title_report_by_id(56)\n",
    "    "
   ]
  },
  {
   "cell_type": "code",
   "execution_count": null,
   "metadata": {
    "slideshow": {
     "slide_type": "slide"
    }
   },
   "outputs": [],
   "source": [
    "# Write better code!"
   ]
  }
 ],
 "metadata": {
  "celltoolbar": "Slideshow",
  "kernelspec": {
   "display_name": "Python 3 (ipykernel)",
   "language": "python",
   "name": "python3"
  },
  "language_info": {
   "codemirror_mode": {
    "name": "ipython",
    "version": 3
   },
   "file_extension": ".py",
   "mimetype": "text/x-python",
   "name": "python",
   "nbconvert_exporter": "python",
   "pygments_lexer": "ipython3",
   "version": "3.10.9"
  },
  "vscode": {
   "interpreter": {
    "hash": "ead1b95f633dc9c51826328e1846203f51a198c6fb5f2884a80417ba131d4e82"
   }
  }
 },
 "nbformat": 4,
 "nbformat_minor": 2
}
